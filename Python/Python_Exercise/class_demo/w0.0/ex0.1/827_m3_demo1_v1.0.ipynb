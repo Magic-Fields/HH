{
 "cells": [
  {
   "cell_type": "markdown",
   "metadata": {},
   "source": [
    "# Predictive Analytics\n",
    "# Module 3 - Inferential Statistics\n",
    "## Demo 1 - Working with Sample & Population"
   ]
  },
  {
   "cell_type": "code",
   "execution_count": 1,
   "metadata": {},
   "outputs": [],
   "source": [
    "import pandas as pd\n",
    "import numpy as np"
   ]
  },
  {
   "cell_type": "markdown",
   "metadata": {},
   "source": [
    "## Generate a random dataset"
   ]
  },
  {
   "cell_type": "code",
   "execution_count": 2,
   "metadata": {},
   "outputs": [
    {
     "name": "stdout",
     "output_type": "stream",
     "text": [
      "(1000, 5) (1000,)\n"
     ]
    }
   ],
   "source": [
    "# Generate random data for regression problem\n",
    "from sklearn.datasets import make_regression\n",
    "\n",
    "X, y = make_regression(n_samples=1000, n_features=5)\n",
    "print(X.shape, y.shape)"
   ]
  },
  {
   "cell_type": "code",
   "execution_count": 3,
   "metadata": {},
   "outputs": [
    {
     "data": {
      "text/html": [
       "<div>\n",
       "<style scoped>\n",
       "    .dataframe tbody tr th:only-of-type {\n",
       "        vertical-align: middle;\n",
       "    }\n",
       "\n",
       "    .dataframe tbody tr th {\n",
       "        vertical-align: top;\n",
       "    }\n",
       "\n",
       "    .dataframe thead th {\n",
       "        text-align: right;\n",
       "    }\n",
       "</style>\n",
       "<table border=\"1\" class=\"dataframe\">\n",
       "  <thead>\n",
       "    <tr style=\"text-align: right;\">\n",
       "      <th></th>\n",
       "      <th>x1</th>\n",
       "      <th>x2</th>\n",
       "      <th>x3</th>\n",
       "      <th>x4</th>\n",
       "      <th>x5</th>\n",
       "      <th>y</th>\n",
       "    </tr>\n",
       "  </thead>\n",
       "  <tbody>\n",
       "    <tr>\n",
       "      <th>count</th>\n",
       "      <td>1000.000000</td>\n",
       "      <td>1000.000000</td>\n",
       "      <td>1000.000000</td>\n",
       "      <td>1000.000000</td>\n",
       "      <td>1000.000000</td>\n",
       "      <td>1000.000000</td>\n",
       "    </tr>\n",
       "    <tr>\n",
       "      <th>mean</th>\n",
       "      <td>-0.010369</td>\n",
       "      <td>0.010205</td>\n",
       "      <td>0.003232</td>\n",
       "      <td>-0.058341</td>\n",
       "      <td>0.001976</td>\n",
       "      <td>-1.968538</td>\n",
       "    </tr>\n",
       "    <tr>\n",
       "      <th>std</th>\n",
       "      <td>1.016947</td>\n",
       "      <td>0.992545</td>\n",
       "      <td>1.035025</td>\n",
       "      <td>0.999644</td>\n",
       "      <td>0.988806</td>\n",
       "      <td>110.066413</td>\n",
       "    </tr>\n",
       "    <tr>\n",
       "      <th>min</th>\n",
       "      <td>-3.547117</td>\n",
       "      <td>-3.220773</td>\n",
       "      <td>-3.235505</td>\n",
       "      <td>-3.233079</td>\n",
       "      <td>-3.456434</td>\n",
       "      <td>-342.983095</td>\n",
       "    </tr>\n",
       "    <tr>\n",
       "      <th>25%</th>\n",
       "      <td>-0.669783</td>\n",
       "      <td>-0.687269</td>\n",
       "      <td>-0.632348</td>\n",
       "      <td>-0.726057</td>\n",
       "      <td>-0.669267</td>\n",
       "      <td>-77.906870</td>\n",
       "    </tr>\n",
       "    <tr>\n",
       "      <th>50%</th>\n",
       "      <td>-0.052590</td>\n",
       "      <td>0.023982</td>\n",
       "      <td>0.022766</td>\n",
       "      <td>-0.072745</td>\n",
       "      <td>0.027929</td>\n",
       "      <td>-6.609569</td>\n",
       "    </tr>\n",
       "    <tr>\n",
       "      <th>75%</th>\n",
       "      <td>0.666920</td>\n",
       "      <td>0.705166</td>\n",
       "      <td>0.665468</td>\n",
       "      <td>0.610950</td>\n",
       "      <td>0.665134</td>\n",
       "      <td>72.371174</td>\n",
       "    </tr>\n",
       "    <tr>\n",
       "      <th>max</th>\n",
       "      <td>3.471849</td>\n",
       "      <td>2.940224</td>\n",
       "      <td>3.878006</td>\n",
       "      <td>3.888040</td>\n",
       "      <td>3.429689</td>\n",
       "      <td>358.337487</td>\n",
       "    </tr>\n",
       "  </tbody>\n",
       "</table>\n",
       "</div>"
      ],
      "text/plain": [
       "                x1           x2           x3           x4           x5  \\\n",
       "count  1000.000000  1000.000000  1000.000000  1000.000000  1000.000000   \n",
       "mean     -0.010369     0.010205     0.003232    -0.058341     0.001976   \n",
       "std       1.016947     0.992545     1.035025     0.999644     0.988806   \n",
       "min      -3.547117    -3.220773    -3.235505    -3.233079    -3.456434   \n",
       "25%      -0.669783    -0.687269    -0.632348    -0.726057    -0.669267   \n",
       "50%      -0.052590     0.023982     0.022766    -0.072745     0.027929   \n",
       "75%       0.666920     0.705166     0.665468     0.610950     0.665134   \n",
       "max       3.471849     2.940224     3.878006     3.888040     3.429689   \n",
       "\n",
       "                 y  \n",
       "count  1000.000000  \n",
       "mean     -1.968538  \n",
       "std     110.066413  \n",
       "min    -342.983095  \n",
       "25%     -77.906870  \n",
       "50%      -6.609569  \n",
       "75%      72.371174  \n",
       "max     358.337487  "
      ]
     },
     "execution_count": 3,
     "metadata": {},
     "output_type": "execute_result"
    }
   ],
   "source": [
    "df = pd.DataFrame(X, columns=[\"x1\",\"x2\",\"x3\",\"x4\",\"x5\"])\n",
    "df['y'] = y\n",
    "df.describe()"
   ]
  },
  {
   "cell_type": "code",
   "execution_count": 4,
   "metadata": {},
   "outputs": [
    {
     "name": "stdout",
     "output_type": "stream",
     "text": [
      "Mean of target \"y\": -1.968537901566801\n",
      "Variance in data: 12102.500604280885\n"
     ]
    }
   ],
   "source": [
    "print(\"Mean of target \\\"y\\\":\", y.mean())\n",
    "print(\"Variance in data:\", y.var())"
   ]
  },
  {
   "cell_type": "markdown",
   "metadata": {},
   "source": [
    "## Draw samples from the population and calculate their mean values"
   ]
  },
  {
   "cell_type": "markdown",
   "metadata": {},
   "source": [
    "### Using pandas Dataframe"
   ]
  },
  {
   "cell_type": "code",
   "execution_count": 5,
   "metadata": {},
   "outputs": [],
   "source": [
    "sample_size = 500\n",
    "sample = df.sample(n=sample_size, random_state=1)"
   ]
  },
  {
   "cell_type": "code",
   "execution_count": 6,
   "metadata": {},
   "outputs": [
    {
     "name": "stdout",
     "output_type": "stream",
     "text": [
      "Sample mean is -1.56 compared with population mean of -1.97\n",
      "Diff betweeen sample and population mean: 0.410805265020163\n"
     ]
    }
   ],
   "source": [
    "print(\"Sample mean is %.2f compared with population mean of %.2f\" %(sample.y.mean(), df.y.mean()))\n",
    "print(\"Diff betweeen sample and population mean:\", sample.y.mean() - df.y.mean())"
   ]
  },
  {
   "cell_type": "markdown",
   "metadata": {},
   "source": [
    "### Using numpy"
   ]
  },
  {
   "cell_type": "code",
   "execution_count": 7,
   "metadata": {},
   "outputs": [
    {
     "name": "stdout",
     "output_type": "stream",
     "text": [
      "Sample mean is -2.53 compared with population mean of -1.97\n",
      "Diff betweeen sample and population mean: -0.5651487486657392\n"
     ]
    }
   ],
   "source": [
    "np.random.seed(1)\n",
    "sample_y = np.random.choice(a = df[\"y\"], size = sample_size)\n",
    "\n",
    "print(\"Sample mean is %.2f compared with population mean of %.2f\" %(sample_y.mean(), df.y.mean()))\n",
    "print(\"Diff betweeen sample and population mean:\", sample_y.mean() - df.y.mean())"
   ]
  }
 ],
 "metadata": {
  "kernelspec": {
   "display_name": "Python 3",
   "language": "python",
   "name": "python3"
  },
  "language_info": {
   "codemirror_mode": {
    "name": "ipython",
    "version": 3
   },
   "file_extension": ".py",
   "mimetype": "text/x-python",
   "name": "python",
   "nbconvert_exporter": "python",
   "pygments_lexer": "ipython3",
   "version": "3.6.7"
  }
 },
 "nbformat": 4,
 "nbformat_minor": 2
}
