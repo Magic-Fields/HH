{
 "cells": [
  {
   "cell_type": "markdown",
   "metadata": {},
   "source": [
    "# Predictive Analytics\n",
    "# Module 4 - Generalized Linear Models\n",
    "## Demo 4 - Create Logistic, Exponential & Polynomial Regression Models"
   ]
  },
  {
   "cell_type": "code",
   "execution_count": 1,
   "metadata": {},
   "outputs": [],
   "source": [
    "import pandas as pd\n",
    "import numpy as np\n",
    "from sklearn.datasets import load_boston\n",
    "boston = load_boston()"
   ]
  },
  {
   "cell_type": "code",
   "execution_count": 2,
   "metadata": {},
   "outputs": [],
   "source": [
    "boston_df = pd.DataFrame(boston.data, columns=boston.feature_names)\n",
    "boston_df['MEDV'] = boston.target"
   ]
  },
  {
   "cell_type": "markdown",
   "metadata": {},
   "source": [
    "## Generalized Linear Models"
   ]
  },
  {
   "cell_type": "markdown",
   "metadata": {},
   "source": [
    "### Logistic Regression"
   ]
  },
  {
   "cell_type": "raw",
   "metadata": {},
   "source": [
    "# Dataset Info\n",
    "Using wine dataset, which is the results of a chemical analysis of wines grown in the same region in Italy by three different cultivators. There are thirteen different measurements taken for different constituents found in the three types of wine.`"
   ]
  },
  {
   "cell_type": "code",
   "execution_count": 3,
   "metadata": {},
   "outputs": [
    {
     "data": {
      "text/html": [
       "<div>\n",
       "<style scoped>\n",
       "    .dataframe tbody tr th:only-of-type {\n",
       "        vertical-align: middle;\n",
       "    }\n",
       "\n",
       "    .dataframe tbody tr th {\n",
       "        vertical-align: top;\n",
       "    }\n",
       "\n",
       "    .dataframe thead th {\n",
       "        text-align: right;\n",
       "    }\n",
       "</style>\n",
       "<table border=\"1\" class=\"dataframe\">\n",
       "  <thead>\n",
       "    <tr style=\"text-align: right;\">\n",
       "      <th></th>\n",
       "      <th>alcohol</th>\n",
       "      <th>malic_acid</th>\n",
       "      <th>ash</th>\n",
       "      <th>alcalinity_of_ash</th>\n",
       "      <th>magnesium</th>\n",
       "      <th>total_phenols</th>\n",
       "      <th>flavanoids</th>\n",
       "      <th>nonflavanoid_phenols</th>\n",
       "      <th>proanthocyanins</th>\n",
       "      <th>color_intensity</th>\n",
       "      <th>hue</th>\n",
       "      <th>od280/od315_of_diluted_wines</th>\n",
       "      <th>proline</th>\n",
       "      <th>class</th>\n",
       "    </tr>\n",
       "  </thead>\n",
       "  <tbody>\n",
       "    <tr>\n",
       "      <th>0</th>\n",
       "      <td>14.23</td>\n",
       "      <td>1.71</td>\n",
       "      <td>2.43</td>\n",
       "      <td>15.6</td>\n",
       "      <td>127.0</td>\n",
       "      <td>2.80</td>\n",
       "      <td>3.06</td>\n",
       "      <td>0.28</td>\n",
       "      <td>2.29</td>\n",
       "      <td>5.64</td>\n",
       "      <td>1.04</td>\n",
       "      <td>3.92</td>\n",
       "      <td>1065.0</td>\n",
       "      <td>0</td>\n",
       "    </tr>\n",
       "    <tr>\n",
       "      <th>1</th>\n",
       "      <td>13.20</td>\n",
       "      <td>1.78</td>\n",
       "      <td>2.14</td>\n",
       "      <td>11.2</td>\n",
       "      <td>100.0</td>\n",
       "      <td>2.65</td>\n",
       "      <td>2.76</td>\n",
       "      <td>0.26</td>\n",
       "      <td>1.28</td>\n",
       "      <td>4.38</td>\n",
       "      <td>1.05</td>\n",
       "      <td>3.40</td>\n",
       "      <td>1050.0</td>\n",
       "      <td>0</td>\n",
       "    </tr>\n",
       "    <tr>\n",
       "      <th>2</th>\n",
       "      <td>13.16</td>\n",
       "      <td>2.36</td>\n",
       "      <td>2.67</td>\n",
       "      <td>18.6</td>\n",
       "      <td>101.0</td>\n",
       "      <td>2.80</td>\n",
       "      <td>3.24</td>\n",
       "      <td>0.30</td>\n",
       "      <td>2.81</td>\n",
       "      <td>5.68</td>\n",
       "      <td>1.03</td>\n",
       "      <td>3.17</td>\n",
       "      <td>1185.0</td>\n",
       "      <td>0</td>\n",
       "    </tr>\n",
       "    <tr>\n",
       "      <th>3</th>\n",
       "      <td>14.37</td>\n",
       "      <td>1.95</td>\n",
       "      <td>2.50</td>\n",
       "      <td>16.8</td>\n",
       "      <td>113.0</td>\n",
       "      <td>3.85</td>\n",
       "      <td>3.49</td>\n",
       "      <td>0.24</td>\n",
       "      <td>2.18</td>\n",
       "      <td>7.80</td>\n",
       "      <td>0.86</td>\n",
       "      <td>3.45</td>\n",
       "      <td>1480.0</td>\n",
       "      <td>0</td>\n",
       "    </tr>\n",
       "  </tbody>\n",
       "</table>\n",
       "</div>"
      ],
      "text/plain": [
       "   alcohol  malic_acid   ash  alcalinity_of_ash  magnesium  total_phenols  \\\n",
       "0    14.23        1.71  2.43               15.6      127.0           2.80   \n",
       "1    13.20        1.78  2.14               11.2      100.0           2.65   \n",
       "2    13.16        2.36  2.67               18.6      101.0           2.80   \n",
       "3    14.37        1.95  2.50               16.8      113.0           3.85   \n",
       "\n",
       "   flavanoids  nonflavanoid_phenols  proanthocyanins  color_intensity   hue  \\\n",
       "0        3.06                  0.28             2.29             5.64  1.04   \n",
       "1        2.76                  0.26             1.28             4.38  1.05   \n",
       "2        3.24                  0.30             2.81             5.68  1.03   \n",
       "3        3.49                  0.24             2.18             7.80  0.86   \n",
       "\n",
       "   od280/od315_of_diluted_wines  proline  class  \n",
       "0                          3.92   1065.0      0  \n",
       "1                          3.40   1050.0      0  \n",
       "2                          3.17   1185.0      0  \n",
       "3                          3.45   1480.0      0  "
      ]
     },
     "execution_count": 3,
     "metadata": {},
     "output_type": "execute_result"
    }
   ],
   "source": [
    "# Load dataset\n",
    "from sklearn.datasets import load_wine\n",
    "wine = load_wine()\n",
    "wine_df = pd.DataFrame(wine.data, columns=wine.feature_names)\n",
    "wine_df['class'] = wine.target\n",
    "wine_df.head(4)"
   ]
  },
  {
   "cell_type": "code",
   "execution_count": 4,
   "metadata": {},
   "outputs": [
    {
     "name": "stderr",
     "output_type": "stream",
     "text": [
      "/opt/conda/lib/python3.6/site-packages/sklearn/linear_model/logistic.py:758: ConvergenceWarning: lbfgs failed to converge. Increase the number of iterations.\n",
      "  \"of iterations.\", ConvergenceWarning)\n"
     ]
    },
    {
     "data": {
      "text/plain": [
       "LogisticRegression(C=100000.0, class_weight=None, dual=False,\n",
       "          fit_intercept=True, intercept_scaling=1, max_iter=100,\n",
       "          multi_class='multinomial', n_jobs=None, penalty='l2',\n",
       "          random_state=None, solver='lbfgs', tol=0.0001, verbose=0,\n",
       "          warm_start=False)"
      ]
     },
     "execution_count": 4,
     "metadata": {},
     "output_type": "execute_result"
    }
   ],
   "source": [
    "from sklearn.linear_model import LogisticRegression\n",
    "X = wine.data\n",
    "y = wine.target\n",
    "logreg = LogisticRegression(C=1e5, solver='lbfgs', multi_class='multinomial')\n",
    "\n",
    "# Create an instance of Logistic Regression Classifier and fit the data.\n",
    "logreg.fit(X, y)"
   ]
  },
  {
   "cell_type": "code",
   "execution_count": 5,
   "metadata": {},
   "outputs": [
    {
     "name": "stdout",
     "output_type": "stream",
     "text": [
      "   alcohol  malic_acid   ash  alcalinity_of_ash  magnesium  total_phenols  \\\n",
      "0    14.23        1.71  2.43               15.6      127.0           2.80   \n",
      "1    13.20        1.78  2.14               11.2      100.0           2.65   \n",
      "2    13.16        2.36  2.67               18.6      101.0           2.80   \n",
      "3    14.37        1.95  2.50               16.8      113.0           3.85   \n",
      "\n",
      "   flavanoids  nonflavanoid_phenols  proanthocyanins  color_intensity   hue  \\\n",
      "0        3.06                  0.28             2.29             5.64  1.04   \n",
      "1        2.76                  0.26             1.28             4.38  1.05   \n",
      "2        3.24                  0.30             2.81             5.68  1.03   \n",
      "3        3.49                  0.24             2.18             7.80  0.86   \n",
      "\n",
      "   od280/od315_of_diluted_wines  proline  class  \n",
      "0                          3.92   1065.0      0  \n",
      "1                          3.40   1050.0      0  \n",
      "2                          3.17   1185.0      0  \n",
      "3                          3.45   1480.0      0  \n"
     ]
    },
    {
     "data": {
      "text/plain": [
       "(array([0, 0, 0, 0]),)"
      ]
     },
     "execution_count": 5,
     "metadata": {},
     "output_type": "execute_result"
    }
   ],
   "source": [
    "# Perform prediction\n",
    "wine_pred = logreg.predict(X)\n",
    "print(wine_df[:4])\n",
    "wine_pred[:4],"
   ]
  },
  {
   "cell_type": "markdown",
   "metadata": {},
   "source": [
    "### Errors in model"
   ]
  },
  {
   "cell_type": "code",
   "execution_count": 6,
   "metadata": {},
   "outputs": [
    {
     "name": "stdout",
     "output_type": "stream",
     "text": [
      "Accuracy: 0.9662921348314607\n"
     ]
    }
   ],
   "source": [
    "from sklearn.metrics import accuracy_score\n",
    "\n",
    "print(\"Accuracy:\",accuracy_score(y, wine_pred))"
   ]
  },
  {
   "cell_type": "markdown",
   "metadata": {},
   "source": [
    "### Exponential Regression"
   ]
  },
  {
   "cell_type": "code",
   "execution_count": 7,
   "metadata": {},
   "outputs": [
    {
     "name": "stdout",
     "output_type": "stream",
     "text": [
      "Coefficient: [0.36768673] \n",
      "Intercept: 0.7237361931657587\n"
     ]
    }
   ],
   "source": [
    "\"\"\"\n",
    "For this example let's consider the boston housing data.\n",
    "Exponential regression is of the form y = Ar^X.\n",
    "log(y) = log(Ar^X)\n",
    "log(y) = log(A) + X*log(r)\n",
    "\"\"\"\n",
    "from sklearn.linear_model import LinearRegression\n",
    "log_y = np.log(boston_df.MEDV)\n",
    "X4 = boston_df[['RM']]\n",
    "\n",
    "slm_exp = LinearRegression()\n",
    "slm_exp.fit(X4, log_y)\n",
    "print(\"Coefficient:\", slm_exp.coef_,\"\\nIntercept:\", slm_exp.intercept_)"
   ]
  },
  {
   "cell_type": "code",
   "execution_count": 8,
   "metadata": {},
   "outputs": [
    {
     "name": "stdout",
     "output_type": "stream",
     "text": [
      "A: 2.062123326899287 r: 1.4443894874426626\n"
     ]
    }
   ],
   "source": [
    "\"\"\"\n",
    "retreiving A and r. if log(A) = m, then A = exp(m)\n",
    "\"\"\"\n",
    "r = np.exp(slm_exp.coef_[0])\n",
    "A = np.exp(slm_exp.intercept_)\n",
    "print('A:', A,\"r:\",r)"
   ]
  },
  {
   "cell_type": "code",
   "execution_count": 9,
   "metadata": {},
   "outputs": [
    {
     "name": "stdout",
     "output_type": "stream",
     "text": [
      "Predicted values:  [23.13337679723768, 21.859873609598075, 28.949859892104655, 27.026231878949403]\n",
      "Actual values:\n",
      " 0    24.0\n",
      "1    21.6\n",
      "2    34.7\n",
      "3    33.4\n",
      "Name: MEDV, dtype: float64\n"
     ]
    }
   ],
   "source": [
    "# Predicting values\n",
    "predict_exp = [A*(r**v[0]) for v in X4.values]\n",
    "print(\"Predicted values: \", predict_exp[:4])\n",
    "print(\"Actual values:\\n\", boston_df.MEDV[:4])"
   ]
  },
  {
   "cell_type": "code",
   "execution_count": 10,
   "metadata": {},
   "outputs": [
    {
     "name": "stdout",
     "output_type": "stream",
     "text": [
      "Exponential Regression Mean squared error: 40.83\n",
      "Exponential Regression Variance score: 0.52\n"
     ]
    }
   ],
   "source": [
    "# Measure the accuracy\n",
    "from sklearn.metrics import mean_squared_error, r2_score\n",
    "\n",
    "print(\"Exponential Regression Mean squared error: %.2f\" % mean_squared_error(boston_df.MEDV, predict_exp))\n",
    "\n",
    "# Explained variance score: 1 is perfect prediction\n",
    "print('Exponential Regression Variance score: %.2f' % r2_score(boston_df.MEDV, predict_exp))"
   ]
  },
  {
   "cell_type": "markdown",
   "metadata": {},
   "source": [
    "### Polynomial regression"
   ]
  },
  {
   "cell_type": "code",
   "execution_count": 11,
   "metadata": {},
   "outputs": [],
   "source": [
    "# using same boston housing data\n",
    "X2 = boston_df.drop([\"MEDV\"], axis=1)\n",
    "from sklearn.preprocessing import PolynomialFeatures\n",
    "poly = PolynomialFeatures(2)\n",
    "X_poly = poly.fit_transform(X2)"
   ]
  },
  {
   "cell_type": "code",
   "execution_count": 12,
   "metadata": {},
   "outputs": [
    {
     "name": "stdout",
     "output_type": "stream",
     "text": [
      "Coefficient: [-7.97162270e+08 -4.47560359e+00  1.86323597e-01 -4.64950095e+00\n",
      "  2.99096228e+01  1.34635791e+02  2.17266153e+01  9.03246738e-01\n",
      " -7.41923580e+00  1.81653477e+00  6.19430932e-02  6.44945686e+00\n",
      "  1.29947837e-01  7.34742201e-01  1.99793216e-03  3.34741125e-01\n",
      "  4.02550006e-01  2.48205703e+00 -7.14321228e-01  1.12808887e-01\n",
      " -4.73501123e-03 -7.47335013e-02  1.92804227e-01 -2.34199263e-02\n",
      "  3.90169990e-01 -1.98657113e-04  1.92372210e-02 -2.22418640e-05\n",
      " -3.24688054e-03 -2.03088751e-02 -1.09333125e+00  5.95574382e-03\n",
      "  7.60547028e-04 -1.01172276e-02 -1.24850944e-02  6.80604587e-04\n",
      " -2.25603444e-03  5.52624070e-04 -6.38574403e-03  5.25691014e-02\n",
      "  3.12674057e-02  1.07836182e+00  2.31660106e-01  4.99638578e-03\n",
      "  1.74692246e-01 -3.28419255e-02  7.66482944e-04 -3.69484778e-02\n",
      "  3.30999945e-03 -1.52964974e-02  2.99096228e+01 -3.41842947e+01\n",
      " -5.52330679e+00 -3.25491474e-02  1.09586600e+00 -7.76266128e-02\n",
      "  1.10399779e-02 -9.46919792e-01  2.11780440e-02 -2.50401439e-01\n",
      " -3.50025060e+01  1.64292401e+00 -4.23376824e-01  1.44222453e+01\n",
      " -1.93283482e+00  1.63565163e-01 -1.10628624e+01 -3.52082271e-03\n",
      "  1.15688040e+00  3.83224501e-01 -6.28819217e-02  4.21958256e-02\n",
      " -4.85285207e-02 -1.56361293e-02 -5.77862726e-01 -4.21497334e-03\n",
      " -1.73135504e-01  1.69727339e-04 -6.89255973e-03  1.57314604e-02\n",
      " -6.31505305e-04  7.77382047e-03 -8.89435059e-04 -8.46911189e-03\n",
      "  4.38923234e-01 -7.83385425e-02 -6.39801522e-03 -1.99405458e-01\n",
      " -1.14637884e-03  8.23312217e-02 -1.18897015e-01  6.97199975e-03\n",
      " -7.09821537e-02  7.57384064e-04 -2.27487950e-02 -9.19935081e-05\n",
      "  5.47074087e-03 -1.76467904e-04 -7.05193897e-04  2.23275634e-02\n",
      "  2.66510529e-03 -5.38359306e-03 -5.88011983e-05 -2.26560633e-04\n",
      "  1.57638571e-02] \n",
      "Intercept: 797162080.2408385\n"
     ]
    }
   ],
   "source": [
    "# Involving multiple parameters\n",
    "y = boston_df.MEDV\n",
    "slm_poly = LinearRegression()\n",
    "slm_poly.fit(X_poly, y)\n",
    "print(\"Coefficient:\", slm_poly.coef_,\"\\nIntercept:\", slm_poly.intercept_)"
   ]
  },
  {
   "cell_type": "code",
   "execution_count": 13,
   "metadata": {},
   "outputs": [
    {
     "name": "stdout",
     "output_type": "stream",
     "text": [
      "Predicted values:  [24.3257612  21.70742309 31.45342147 31.95919538]\n",
      "Actual values:\n",
      " 0    24.0\n",
      "1    21.6\n",
      "2    34.7\n",
      "3    33.4\n",
      "Name: MEDV, dtype: float64\n"
     ]
    }
   ],
   "source": [
    "predict_poly = slm_poly.predict(X_poly)\n",
    "print(\"Predicted values: \", predict_poly[:4])\n",
    "print(\"Actual values:\\n\", y[:4])"
   ]
  },
  {
   "cell_type": "code",
   "execution_count": 14,
   "metadata": {},
   "outputs": [
    {
     "name": "stdout",
     "output_type": "stream",
     "text": [
      "Mean squared error: 6.42\n",
      "Variance score: 0.92\n"
     ]
    }
   ],
   "source": [
    "from sklearn.metrics import mean_squared_error, r2_score\n",
    "\n",
    "print(\"Mean squared error: %.2f\" % mean_squared_error(y, predict_poly))\n",
    "\n",
    "# Explained variance score: 1 is perfect prediction\n",
    "print('Variance score: %.2f' % r2_score(y, predict_poly))"
   ]
  }
 ],
 "metadata": {
  "kernelspec": {
   "display_name": "Python 3",
   "language": "python",
   "name": "python3"
  },
  "language_info": {
   "codemirror_mode": {
    "name": "ipython",
    "version": 3
   },
   "file_extension": ".py",
   "mimetype": "text/x-python",
   "name": "python",
   "nbconvert_exporter": "python",
   "pygments_lexer": "ipython3",
   "version": "3.8.8"
  }
 },
 "nbformat": 4,
 "nbformat_minor": 2
}
