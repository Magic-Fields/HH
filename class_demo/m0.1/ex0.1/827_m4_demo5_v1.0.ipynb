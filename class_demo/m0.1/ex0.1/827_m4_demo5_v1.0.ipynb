{
 "cells": [
  {
   "cell_type": "code",
   "execution_count": 1,
   "metadata": {},
   "outputs": [],
   "source": [
    "# Import the required libraries\n",
    "\n",
    "import pandas as pd\n",
    "import numpy as np\n",
    "from sklearn.linear_model import LinearRegression\n",
    "from sklearn.metrics import mean_squared_error, r2_score"
   ]
  },
  {
   "cell_type": "code",
   "execution_count": 2,
   "metadata": {},
   "outputs": [
    {
     "data": {
      "text/html": [
       "<div>\n",
       "<style scoped>\n",
       "    .dataframe tbody tr th:only-of-type {\n",
       "        vertical-align: middle;\n",
       "    }\n",
       "\n",
       "    .dataframe tbody tr th {\n",
       "        vertical-align: top;\n",
       "    }\n",
       "\n",
       "    .dataframe thead th {\n",
       "        text-align: right;\n",
       "    }\n",
       "</style>\n",
       "<table border=\"1\" class=\"dataframe\">\n",
       "  <thead>\n",
       "    <tr style=\"text-align: right;\">\n",
       "      <th></th>\n",
       "      <th>Date</th>\n",
       "      <th>Summary</th>\n",
       "      <th>PrecipType</th>\n",
       "      <th>Temperature</th>\n",
       "      <th>Humidity</th>\n",
       "      <th>WindSpeed</th>\n",
       "      <th>Visibility</th>\n",
       "      <th>Pressure</th>\n",
       "    </tr>\n",
       "  </thead>\n",
       "  <tbody>\n",
       "    <tr>\n",
       "      <th>0</th>\n",
       "      <td>2006-04-01 00:00:00.000 +0200</td>\n",
       "      <td>Partly Cloudy</td>\n",
       "      <td>rain</td>\n",
       "      <td>9.472222</td>\n",
       "      <td>0.89</td>\n",
       "      <td>14.1197</td>\n",
       "      <td>15.8263</td>\n",
       "      <td>1015.13</td>\n",
       "    </tr>\n",
       "    <tr>\n",
       "      <th>1</th>\n",
       "      <td>2006-04-01 01:00:00.000 +0200</td>\n",
       "      <td>Partly Cloudy</td>\n",
       "      <td>rain</td>\n",
       "      <td>9.355556</td>\n",
       "      <td>0.86</td>\n",
       "      <td>14.2646</td>\n",
       "      <td>15.8263</td>\n",
       "      <td>1015.63</td>\n",
       "    </tr>\n",
       "    <tr>\n",
       "      <th>2</th>\n",
       "      <td>2006-04-01 02:00:00.000 +0200</td>\n",
       "      <td>Mostly Cloudy</td>\n",
       "      <td>rain</td>\n",
       "      <td>9.377778</td>\n",
       "      <td>0.89</td>\n",
       "      <td>3.9284</td>\n",
       "      <td>14.9569</td>\n",
       "      <td>1015.94</td>\n",
       "    </tr>\n",
       "    <tr>\n",
       "      <th>3</th>\n",
       "      <td>2006-04-01 03:00:00.000 +0200</td>\n",
       "      <td>Partly Cloudy</td>\n",
       "      <td>rain</td>\n",
       "      <td>8.288889</td>\n",
       "      <td>0.83</td>\n",
       "      <td>14.1036</td>\n",
       "      <td>15.8263</td>\n",
       "      <td>1016.41</td>\n",
       "    </tr>\n",
       "    <tr>\n",
       "      <th>4</th>\n",
       "      <td>2006-04-01 04:00:00.000 +0200</td>\n",
       "      <td>Mostly Cloudy</td>\n",
       "      <td>rain</td>\n",
       "      <td>8.755556</td>\n",
       "      <td>0.83</td>\n",
       "      <td>11.0446</td>\n",
       "      <td>15.8263</td>\n",
       "      <td>1016.51</td>\n",
       "    </tr>\n",
       "  </tbody>\n",
       "</table>\n",
       "</div>"
      ],
      "text/plain": [
       "                            Date        Summary PrecipType  Temperature  \\\n",
       "0  2006-04-01 00:00:00.000 +0200  Partly Cloudy       rain     9.472222   \n",
       "1  2006-04-01 01:00:00.000 +0200  Partly Cloudy       rain     9.355556   \n",
       "2  2006-04-01 02:00:00.000 +0200  Mostly Cloudy       rain     9.377778   \n",
       "3  2006-04-01 03:00:00.000 +0200  Partly Cloudy       rain     8.288889   \n",
       "4  2006-04-01 04:00:00.000 +0200  Mostly Cloudy       rain     8.755556   \n",
       "\n",
       "   Humidity  WindSpeed  Visibility  Pressure  \n",
       "0      0.89    14.1197     15.8263   1015.13  \n",
       "1      0.86    14.2646     15.8263   1015.63  \n",
       "2      0.89     3.9284     14.9569   1015.94  \n",
       "3      0.83    14.1036     15.8263   1016.41  \n",
       "4      0.83    11.0446     15.8263   1016.51  "
      ]
     },
     "execution_count": 2,
     "metadata": {},
     "output_type": "execute_result"
    }
   ],
   "source": [
    "# Load data into a Dataframe\n",
    "\n",
    "df=pd.read_csv('weather.csv')\n",
    "\n",
    "# Display first 5 rows of the Dataframe\n",
    "df.head()"
   ]
  },
  {
   "cell_type": "code",
   "execution_count": 3,
   "metadata": {},
   "outputs": [
    {
     "name": "stdout",
     "output_type": "stream",
     "text": [
      "Coefficient: [-30.89] \n",
      "Intercept: 34.64\n"
     ]
    }
   ],
   "source": [
    "# Perform Simple Linear Regression to create a Model\n",
    "\n",
    "X1 = df[['Humidity']]\n",
    "y = df.Temperature\n",
    "\n",
    "slm1 = LinearRegression()\n",
    "\n",
    "# Fit the Model & print values of Coefficient & Intercept\n",
    "\n",
    "slm1.fit(X1, y)\n",
    "print(\"Coefficient:\", np.round(slm1.coef_,2),\"\\nIntercept:\", np.round(slm1.intercept_,2))\n",
    "\n",
    "# Predict temperature values using the Model\n",
    "predicted_1 = slm1.predict(X1) "
   ]
  },
  {
   "cell_type": "code",
   "execution_count": 4,
   "metadata": {},
   "outputs": [
    {
     "name": "stdout",
     "output_type": "stream",
     "text": [
      "Coefficient: [-32.44  -0.19  -0.  ] \n",
      "Intercept: 38.59\n"
     ]
    }
   ],
   "source": [
    "# Perform Multiple Linear Regression using three predictors\n",
    "\n",
    "X2 = df[['Humidity','WindSpeed','Pressure']]\n",
    "y = df.Temperature\n",
    "\n",
    "slm2 = LinearRegression()\n",
    "slm2.fit(X2, y)\n",
    "print(\"Coefficient:\", np.round(slm2.coef_,2),\"\\nIntercept:\", np.round(slm2.intercept_,2))"
   ]
  },
  {
   "cell_type": "code",
   "execution_count": 5,
   "metadata": {},
   "outputs": [],
   "source": [
    "# Predict values using slm1\n",
    "\n",
    "predicted_1 = slm1.predict(X1)\n",
    "\n",
    "# Predict values using slm2\n",
    "\n",
    "predicted_2 = slm2.predict(X2)"
   ]
  },
  {
   "cell_type": "code",
   "execution_count": 6,
   "metadata": {},
   "outputs": [
    {
     "name": "stdout",
     "output_type": "stream",
     "text": [
      "Mean squared error for Simple Linear Model: 54.76\n",
      "R2 score for Simple Linear Model: 0.40\n",
      "Mean squared error for Multiple Linear Model: 53.05\n",
      "R2 score for Multiple Linear Model: 0.42\n"
     ]
    }
   ],
   "source": [
    "# Mean Square Error & R2 Score\n",
    "\n",
    "print(\"Mean squared error for Simple Linear Model: %.2f\" % mean_squared_error(y, predicted_1))\n",
    "\n",
    "print('R2 score for Simple Linear Model: %.2f' % r2_score(y, predicted_1))\n",
    "\n",
    "print(\"Mean squared error for Multiple Linear Model: %.2f\" % mean_squared_error(y, predicted_2))\n",
    "\n",
    "print('R2 score for Multiple Linear Model: %.2f' % r2_score(y, predicted_2))"
   ]
  }
 ],
 "metadata": {
  "kernelspec": {
   "display_name": "Python 3",
   "language": "python",
   "name": "python3"
  },
  "language_info": {
   "codemirror_mode": {
    "name": "ipython",
    "version": 3
   },
   "file_extension": ".py",
   "mimetype": "text/x-python",
   "name": "python",
   "nbconvert_exporter": "python",
   "pygments_lexer": "ipython3",
   "version": "3.7.3"
  }
 },
 "nbformat": 4,
 "nbformat_minor": 2
}
