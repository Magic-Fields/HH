{
 "cells": [
  {
   "cell_type": "markdown",
   "metadata": {},
   "source": [
    "# Predictive Analytics\n",
    "## Module 3 - Inferential Statistics\n",
    "### Demo 7 - Statistics Inference on Student's Marks Data"
   ]
  },
  {
   "cell_type": "code",
   "execution_count": 1,
   "metadata": {},
   "outputs": [],
   "source": [
    "# Importing libraries\n",
    "import pandas as pd\n",
    "import math\n",
    "from scipy import stats\n",
    "import numpy as np\n",
    "from scipy.stats import ttest_1samp"
   ]
  },
  {
   "cell_type": "code",
   "execution_count": 2,
   "metadata": {},
   "outputs": [
    {
     "data": {
      "text/html": [
       "<div>\n",
       "<style scoped>\n",
       "    .dataframe tbody tr th:only-of-type {\n",
       "        vertical-align: middle;\n",
       "    }\n",
       "\n",
       "    .dataframe tbody tr th {\n",
       "        vertical-align: top;\n",
       "    }\n",
       "\n",
       "    .dataframe thead th {\n",
       "        text-align: right;\n",
       "    }\n",
       "</style>\n",
       "<table border=\"1\" class=\"dataframe\">\n",
       "  <thead>\n",
       "    <tr style=\"text-align: right;\">\n",
       "      <th></th>\n",
       "      <th>Sr. No.</th>\n",
       "      <th>College</th>\n",
       "      <th>Class</th>\n",
       "      <th>Exam_id</th>\n",
       "      <th>Name</th>\n",
       "      <th>Marks</th>\n",
       "    </tr>\n",
       "  </thead>\n",
       "  <tbody>\n",
       "    <tr>\n",
       "      <th>0</th>\n",
       "      <td>1</td>\n",
       "      <td>St.Mary</td>\n",
       "      <td>BE</td>\n",
       "      <td>71522622D</td>\n",
       "      <td>HOSHING GAUTAM</td>\n",
       "      <td>420</td>\n",
       "    </tr>\n",
       "    <tr>\n",
       "      <th>1</th>\n",
       "      <td>2</td>\n",
       "      <td>St.Mary</td>\n",
       "      <td>BE</td>\n",
       "      <td>71522620H</td>\n",
       "      <td>GUPTA ABHISHEK</td>\n",
       "      <td>280</td>\n",
       "    </tr>\n",
       "    <tr>\n",
       "      <th>2</th>\n",
       "      <td>3</td>\n",
       "      <td>St.Mary</td>\n",
       "      <td>BE</td>\n",
       "      <td>71522628C</td>\n",
       "      <td>KALE SHWETA</td>\n",
       "      <td>350</td>\n",
       "    </tr>\n",
       "    <tr>\n",
       "      <th>3</th>\n",
       "      <td>4</td>\n",
       "      <td>St.Mary</td>\n",
       "      <td>BE</td>\n",
       "      <td>71522647K</td>\n",
       "      <td>AISHWARYA SAWANT</td>\n",
       "      <td>269</td>\n",
       "    </tr>\n",
       "    <tr>\n",
       "      <th>4</th>\n",
       "      <td>5</td>\n",
       "      <td>St.Mary</td>\n",
       "      <td>BE</td>\n",
       "      <td>71431647E</td>\n",
       "      <td>BENDALE SAGAR SARJERAO</td>\n",
       "      <td>317</td>\n",
       "    </tr>\n",
       "  </tbody>\n",
       "</table>\n",
       "</div>"
      ],
      "text/plain": [
       "   Sr. No.  College Class    Exam_id                    Name  Marks\n",
       "0        1  St.Mary    BE  71522622D          HOSHING GAUTAM    420\n",
       "1        2  St.Mary    BE  71522620H          GUPTA ABHISHEK    280\n",
       "2        3  St.Mary    BE  71522628C             KALE SHWETA    350\n",
       "3        4  St.Mary    BE  71522647K        AISHWARYA SAWANT    269\n",
       "4        5  St.Mary    BE  71431647E  BENDALE SAGAR SARJERAO    317"
      ]
     },
     "execution_count": 2,
     "metadata": {},
     "output_type": "execute_result"
    }
   ],
   "source": [
    "# Loading dataset\n",
    "df=pd.read_csv('marks.csv')\n",
    "df.head()"
   ]
  },
  {
   "cell_type": "code",
   "execution_count": 3,
   "metadata": {},
   "outputs": [
    {
     "name": "stdout",
     "output_type": "stream",
     "text": [
      "Rows in dataset = 130\n"
     ]
    }
   ],
   "source": [
    "# Number of rows in dataset\n",
    "print(\"Rows in dataset =\",df.shape[0])"
   ]
  },
  {
   "cell_type": "code",
   "execution_count": 4,
   "metadata": {},
   "outputs": [
    {
     "name": "stdout",
     "output_type": "stream",
     "text": [
      "Population mean = 364.277\n"
     ]
    }
   ],
   "source": [
    "# Calculating population mean\n",
    "population_mean = np.mean(df.Marks)\n",
    "print(\"Population mean =\",round(population_mean,3))"
   ]
  },
  {
   "cell_type": "code",
   "execution_count": 5,
   "metadata": {},
   "outputs": [],
   "source": [
    "# Creating a sample of size 20\n",
    "sample=np.random.choice(df.Marks,size=20,replace=False)"
   ]
  },
  {
   "cell_type": "code",
   "execution_count": 6,
   "metadata": {},
   "outputs": [
    {
     "name": "stdout",
     "output_type": "stream",
     "text": [
      "Size of the sample =  20\n"
     ]
    }
   ],
   "source": [
    "# Calculating length of the sample\n",
    "size=len(sample)\n",
    "print(\"Size of the sample = \", size)"
   ]
  },
  {
   "cell_type": "code",
   "execution_count": 7,
   "metadata": {},
   "outputs": [
    {
     "name": "stdout",
     "output_type": "stream",
     "text": [
      "Sample mean = 70.418\n"
     ]
    }
   ],
   "source": [
    "# Calculating mean and standard deviation of sample\n",
    "sample_mean=np.mean(sample)\n",
    "\n",
    "sample_std = np.std(sample)\n",
    "print(\"Sample mean =\",round(sample_std,3))"
   ]
  },
  {
   "cell_type": "code",
   "execution_count": 8,
   "metadata": {},
   "outputs": [
    {
     "name": "stdout",
     "output_type": "stream",
     "text": [
      "Standard deviation of population =  66.179\n"
     ]
    }
   ],
   "source": [
    "# Calculating standard deviation of population\n",
    "pop_std=np.std(df.Marks)\n",
    "print(\"Standard deviation of population = \",round(pop_std,3))"
   ]
  },
  {
   "cell_type": "code",
   "execution_count": 9,
   "metadata": {},
   "outputs": [
    {
     "name": "stdout",
     "output_type": "stream",
     "text": [
      "Margin of error =  29.004\n"
     ]
    }
   ],
   "source": [
    "# Calculating Margin of error\n",
    "margin=stats.norm.ppf(q=0.975)*(pop_std/math.sqrt(size))\n",
    "print(\"Margin of error = \",round(margin,3))"
   ]
  },
  {
   "cell_type": "code",
   "execution_count": 10,
   "metadata": {},
   "outputs": [
    {
     "name": "stdout",
     "output_type": "stream",
     "text": [
      "Confidence Interval:  [347.596, 405.604]\n"
     ]
    }
   ],
   "source": [
    "# Calculating Confidence Interval\n",
    "CI=(sample_mean-margin,sample_mean+margin)\n",
    "print('Confidence Interval: ',[round(CI[0],3), round(CI[1],3)])"
   ]
  },
  {
   "cell_type": "markdown",
   "metadata": {},
   "source": [
    "# Hypothesis Testing "
   ]
  },
  {
   "cell_type": "code",
   "execution_count": 11,
   "metadata": {},
   "outputs": [
    {
     "name": "stdout",
     "output_type": "stream",
     "text": [
      "p_value 0.455\n",
      "We are accepting the null hypothesis\n"
     ]
    }
   ],
   "source": [
    "# Performing Hypothesis Testing\n",
    "stat, pval = ttest_1samp(sample, population_mean)\n",
    "print(\"p_value\",round(pval,3))\n",
    "if pval<0.05: \n",
    "    print(\"We are rejecting the null hypothesis\")\n",
    "else:\n",
    "    print(\"We are accepting the null hypothesis\")"
   ]
  }
 ],
 "metadata": {
  "kernelspec": {
   "display_name": "Python 3",
   "language": "python",
   "name": "python3"
  },
  "language_info": {
   "codemirror_mode": {
    "name": "ipython",
    "version": 3
   },
   "file_extension": ".py",
   "mimetype": "text/x-python",
   "name": "python",
   "nbconvert_exporter": "python",
   "pygments_lexer": "ipython3",
   "version": "3.7.3"
  }
 },
 "nbformat": 4,
 "nbformat_minor": 2
}
