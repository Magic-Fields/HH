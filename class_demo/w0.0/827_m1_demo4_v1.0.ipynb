{
 "cells": [
  {
   "cell_type": "code",
   "execution_count": 1,
   "metadata": {},
   "outputs": [],
   "source": [
    "# Import all the required libraries \n",
    "import pandas as pd\n",
    "import numpy as np"
   ]
  },
  {
   "cell_type": "code",
   "execution_count": 2,
   "metadata": {},
   "outputs": [
    {
     "data": {
      "text/html": [
       "<div>\n",
       "<style scoped>\n",
       "    .dataframe tbody tr th:only-of-type {\n",
       "        vertical-align: middle;\n",
       "    }\n",
       "\n",
       "    .dataframe tbody tr th {\n",
       "        vertical-align: top;\n",
       "    }\n",
       "\n",
       "    .dataframe thead th {\n",
       "        text-align: right;\n",
       "    }\n",
       "</style>\n",
       "<table border=\"1\" class=\"dataframe\">\n",
       "  <thead>\n",
       "    <tr style=\"text-align: right;\">\n",
       "      <th></th>\n",
       "      <th>ProductCode</th>\n",
       "      <th>Date</th>\n",
       "      <th>Amount</th>\n",
       "      <th>Received Cash</th>\n",
       "      <th>CashierName</th>\n",
       "    </tr>\n",
       "  </thead>\n",
       "  <tbody>\n",
       "    <tr>\n",
       "      <th>0</th>\n",
       "      <td>LBVT18010004435</td>\n",
       "      <td>01-05-2018 12:36</td>\n",
       "      <td>1121.2</td>\n",
       "      <td>1121.2</td>\n",
       "      <td>MAYTE</td>\n",
       "    </tr>\n",
       "    <tr>\n",
       "      <th>1</th>\n",
       "      <td>LBVT18010004436</td>\n",
       "      <td>01-05-2018 12:37</td>\n",
       "      <td>18.5</td>\n",
       "      <td>20.0</td>\n",
       "      <td>MAYTE</td>\n",
       "    </tr>\n",
       "    <tr>\n",
       "      <th>2</th>\n",
       "      <td>LBVT18010004437</td>\n",
       "      <td>01-05-2018 12:38</td>\n",
       "      <td>160.0</td>\n",
       "      <td>200.0</td>\n",
       "      <td>MAYTE</td>\n",
       "    </tr>\n",
       "    <tr>\n",
       "      <th>3</th>\n",
       "      <td>LBVT18010004438</td>\n",
       "      <td>01-05-2018 12:47</td>\n",
       "      <td>397.5</td>\n",
       "      <td>397.5</td>\n",
       "      <td>MAYTE</td>\n",
       "    </tr>\n",
       "    <tr>\n",
       "      <th>4</th>\n",
       "      <td>LBVT18010004439</td>\n",
       "      <td>01-05-2018 12:48</td>\n",
       "      <td>22.0</td>\n",
       "      <td>50.0</td>\n",
       "      <td>MAYTE</td>\n",
       "    </tr>\n",
       "  </tbody>\n",
       "</table>\n",
       "</div>"
      ],
      "text/plain": [
       "       ProductCode              Date  Amount  Received Cash CashierName\n",
       "0  LBVT18010004435  01-05-2018 12:36  1121.2         1121.2       MAYTE\n",
       "1  LBVT18010004436  01-05-2018 12:37    18.5           20.0       MAYTE\n",
       "2  LBVT18010004437  01-05-2018 12:38   160.0          200.0       MAYTE\n",
       "3  LBVT18010004438  01-05-2018 12:47   397.5          397.5       MAYTE\n",
       "4  LBVT18010004439  01-05-2018 12:48    22.0           50.0       MAYTE"
      ]
     },
     "execution_count": 2,
     "metadata": {},
     "output_type": "execute_result"
    }
   ],
   "source": [
    "# Load the required file\n",
    "df=pd.read_csv('Supermarket.csv')\n",
    "df.head()"
   ]
  },
  {
   "cell_type": "code",
   "execution_count": 3,
   "metadata": {},
   "outputs": [
    {
     "name": "stdout",
     "output_type": "stream",
     "text": [
      "The mean Amount is: 189.78\n"
     ]
    }
   ],
   "source": [
    "# To find the mean of Amount\n",
    "(print('The mean Amount is:',round(df.Amount.mean(),2)))\n"
   ]
  },
  {
   "cell_type": "code",
   "execution_count": 4,
   "metadata": {},
   "outputs": [
    {
     "name": "stdout",
     "output_type": "stream",
     "text": [
      "The median of Amount is: 95.0\n"
     ]
    }
   ],
   "source": [
    "# To find the median of Amount\n",
    "print('The median of Amount is:',(df.Amount.median()))"
   ]
  },
  {
   "cell_type": "code",
   "execution_count": 5,
   "metadata": {},
   "outputs": [
    {
     "name": "stdout",
     "output_type": "stream",
     "text": [
      "The mode of Amount is: 0    50.0\n",
      "dtype: float64\n"
     ]
    }
   ],
   "source": [
    "# To find the mode of Amount\n",
    "print('The mode of Amount is:',(df.Amount.mode()))"
   ]
  },
  {
   "cell_type": "code",
   "execution_count": 6,
   "metadata": {},
   "outputs": [
    {
     "name": "stdout",
     "output_type": "stream",
     "text": [
      "Range for Amount: 15036.8\n"
     ]
    },
    {
     "name": "stderr",
     "output_type": "stream",
     "text": [
      "/opt/conda/lib/python3.7/site-packages/numpy/core/fromnumeric.py:2389: FutureWarning: Method .ptp is deprecated and will be removed in a future version. Use numpy.ptp instead.\n",
      "  return ptp(axis=axis, out=out, **kwargs)\n"
     ]
    }
   ],
   "source": [
    "# To find the range of Amount \n",
    "print(\"Range for Amount:\",np.ptp(df.Amount,axis=0))\n"
   ]
  },
  {
   "cell_type": "code",
   "execution_count": 7,
   "metadata": {},
   "outputs": [
    {
     "name": "stdout",
     "output_type": "stream",
     "text": [
      "The inter quartile range is: 189.7\n"
     ]
    }
   ],
   "source": [
    "# Use iqr from scipy.stats library\n",
    "from scipy.stats import iqr\n",
    "print('The inter quartile range is:',(iqr(df['Amount'],axis=0)))"
   ]
  },
  {
   "cell_type": "code",
   "execution_count": 8,
   "metadata": {},
   "outputs": [
    {
     "name": "stdout",
     "output_type": "stream",
     "text": [
      "The Standard Deviation of Amount is:  284.03\n"
     ]
    }
   ],
   "source": [
    "# To find the deviation of Amount\n",
    "print('The Standard Deviation of Amount is: ',round(np.std(df['Amount'],axis=0),2))"
   ]
  },
  {
   "cell_type": "code",
   "execution_count": 9,
   "metadata": {},
   "outputs": [
    {
     "name": "stdout",
     "output_type": "stream",
     "text": [
      "The Variance of Amount is:  80673.58\n"
     ]
    }
   ],
   "source": [
    "# To find the variance of Amount\n",
    "print('The Variance of Amount is: ',round(np.var(df['Amount'],axis=0),2))"
   ]
  }
 ],
 "metadata": {
  "kernelspec": {
   "display_name": "Python 3",
   "language": "python",
   "name": "python3"
  },
  "language_info": {
   "codemirror_mode": {
    "name": "ipython",
    "version": 3
   },
   "file_extension": ".py",
   "mimetype": "text/x-python",
   "name": "python",
   "nbconvert_exporter": "python",
   "pygments_lexer": "ipython3",
   "version": "3.7.3"
  }
 },
 "nbformat": 4,
 "nbformat_minor": 2
}
